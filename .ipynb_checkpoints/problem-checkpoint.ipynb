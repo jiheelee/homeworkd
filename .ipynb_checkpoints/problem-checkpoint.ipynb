{
 "cells": [
  {
   "cell_type": "code",
   "execution_count": 26,
   "metadata": {},
   "outputs": [
    {
     "name": "stdout",
     "output_type": "stream",
     "text": [
      "이재형\n"
     ]
    }
   ],
   "source": [
    "print(\"이재형\")"
   ]
  },
  {
   "cell_type": "code",
   "execution_count": 55,
   "metadata": {},
   "outputs": [
    {
     "name": "stdout",
     "output_type": "stream",
     "text": [
      "입력Lee ji hee hi\n",
      "4\n",
      "Lee j. h. hi \n"
     ]
    }
   ],
   "source": [
    "# 중간이름 축약 문제\n",
    "name = str(input(\"입력\"))\n",
    "name_list = name.split(' ')\n",
    "output = \"\"\n",
    "print(len(name_list))\n",
    "for i in range(len(name_list)):\n",
    "    if i == 0 or i == len(name_list)-1:\n",
    "        output += f\"{name_list[i]} \"\n",
    "    else:\n",
    "        output += f\"{name_list[i][0]}. \"\n",
    "print(output)"
   ]
  },
  {
   "cell_type": "code",
   "execution_count": 29,
   "metadata": {},
   "outputs": [
    {
     "name": "stdout",
     "output_type": "stream",
     "text": [
      "         1월         \n",
      "Mo Tu We Th Fr Sa Su\n",
      "1  2  3  4  5  6  7\n",
      "8  9  10 11 12 13 14\n",
      "15 16 17 18 19 20 21\n",
      "22 23 24 25 26 27 28\n",
      "29 30 31 "
     ]
    }
   ],
   "source": [
    "# 달력 문제\n",
    "\n",
    "print(\"{0:^20}\".format(\"1월\"))\n",
    "print(\"Mo Tu We Th Fr Sa Su\")\n",
    "for i in range(1,32):\n",
    "    if i % 7 == 0:\n",
    "        print(i)\n",
    "    elif i < 10:\n",
    "        print(i, end = \"  \")\n",
    "    else:\n",
    "        print(i, end = \" \")\n",
    "        "
   ]
  },
  {
   "cell_type": "code",
   "execution_count": 56,
   "metadata": {
    "scrolled": true
   },
   "outputs": [
    {
     "name": "stdout",
     "output_type": "stream",
     "text": [
      "         1월         \n",
      "Mo Tu We Th Fr Sa Su\n",
      "1  2  3  4  5  6  7\n",
      "8  9  10 11 12 13 14\n",
      "15 16 17 18 19 20 21\n",
      "22 23 24 25 26 27 28\n",
      "29 30 31 \n",
      "\n",
      "         2월         \n",
      "Mo Tu We Th Fr Sa Su\n",
      "1  2  3  4  5  6  7\n",
      "8  9  10 11 12 13 14\n",
      "15 16 17 18 19 20 21\n",
      "22 23 24 25 26 27 28\n",
      "\n",
      "\n",
      "         3월         \n",
      "Mo Tu We Th Fr Sa Su\n",
      "1  2  3  4  5  6  7\n",
      "8  9  10 11 12 13 14\n",
      "15 16 17 18 19 20 21\n",
      "22 23 24 25 26 27 28\n",
      "29 30 31 \n",
      "\n",
      "         4월         \n",
      "Mo Tu We Th Fr Sa Su\n",
      "1  2  3  4  5  6  7\n",
      "8  9  10 11 12 13 14\n",
      "15 16 17 18 19 20 21\n",
      "22 23 24 25 26 27 28\n",
      "29 30 \n",
      "\n",
      "         5월         \n",
      "Mo Tu We Th Fr Sa Su\n",
      "1  2  3  4  5  6  7\n",
      "8  9  10 11 12 13 14\n",
      "15 16 17 18 19 20 21\n",
      "22 23 24 25 26 27 28\n",
      "29 30 31 \n",
      "\n",
      "         6월         \n",
      "Mo Tu We Th Fr Sa Su\n",
      "1  2  3  4  5  6  7\n",
      "8  9  10 11 12 13 14\n",
      "15 16 17 18 19 20 21\n",
      "22 23 24 25 26 27 28\n",
      "29 30 \n",
      "\n",
      "         7월         \n",
      "Mo Tu We Th Fr Sa Su\n",
      "1  2  3  4  5  6  7\n",
      "8  9  10 11 12 13 14\n",
      "15 16 17 18 19 20 21\n",
      "22 23 24 25 26 27 28\n",
      "29 30 31 \n",
      "\n",
      "         8월         \n",
      "Mo Tu We Th Fr Sa Su\n",
      "1  2  3  4  5  6  7\n",
      "8  9  10 11 12 13 14\n",
      "15 16 17 18 19 20 21\n",
      "22 23 24 25 26 27 28\n",
      "29 30 31 \n",
      "\n",
      "         9월         \n",
      "Mo Tu We Th Fr Sa Su\n",
      "1  2  3  4  5  6  7\n",
      "8  9  10 11 12 13 14\n",
      "15 16 17 18 19 20 21\n",
      "22 23 24 25 26 27 28\n",
      "29 30 \n",
      "\n",
      "        10월         \n",
      "Mo Tu We Th Fr Sa Su\n",
      "1  2  3  4  5  6  7\n",
      "8  9  10 11 12 13 14\n",
      "15 16 17 18 19 20 21\n",
      "22 23 24 25 26 27 28\n",
      "29 30 31 \n",
      "\n",
      "        11월         \n",
      "Mo Tu We Th Fr Sa Su\n",
      "1  2  3  4  5  6  7\n",
      "8  9  10 11 12 13 14\n",
      "15 16 17 18 19 20 21\n",
      "22 23 24 25 26 27 28\n",
      "29 30 \n",
      "\n",
      "        12월         \n",
      "Mo Tu We Th Fr Sa Su\n",
      "1  2  3  4  5  6  7\n",
      "8  9  10 11 12 13 14\n",
      "15 16 17 18 19 20 21\n",
      "22 23 24 25 26 27 28\n",
      "29 30 31 \n",
      "\n"
     ]
    }
   ],
   "source": [
    "for i in range(1,13):\n",
    "    print(f'{f\"{i}월\":^20}')\n",
    "    print(\"Mo Tu We Th Fr Sa Su\")\n",
    "    if i == 4 or i == 6 or i == 9 or i == 11:\n",
    "        for j in range(1,31):\n",
    "            if j % 7 == 0:\n",
    "                print(j)\n",
    "            elif j < 10:\n",
    "                print(j, end = \"  \")\n",
    "            else:\n",
    "                print(j, end = \" \")\n",
    "    elif i == 2:\n",
    "        for j in range(1,29):\n",
    "            if j % 7 == 0:\n",
    "                print(j)\n",
    "            elif j < 10:\n",
    "                print(j, end = \"  \")\n",
    "            else:\n",
    "                print(j, end = \" \")\n",
    "    else:\n",
    "        for j in range(1,32):\n",
    "            if j % 7 == 0:\n",
    "                print(j)\n",
    "            elif j < 10:\n",
    "                print(j, end = \"  \")\n",
    "            else:\n",
    "                print(j, end = \" \")\n",
    "        \n",
    "    print(\"\\n\")        \n",
    "    \n",
    "        \n",
    "    "
   ]
  },
  {
   "cell_type": "code",
   "execution_count": 65,
   "metadata": {},
   "outputs": [
    {
     "name": "stdout",
     "output_type": "stream",
     "text": [
      "개굴씨 입력하세요안녕하 개굴 씨\n",
      "['안녕하', '개굴', '씨']\n",
      "개굴개굴개굴 개굴개굴 개굴 \n"
     ]
    }
   ],
   "source": [
    "persona = input(\"개굴씨 입력하세요\")\n",
    "gaegul = \"\"\n",
    "p_list = persona.split(' ')\n",
    "print(p_list)\n",
    "for i in p_list:\n",
    "    gaegul += \"개굴\" * len(i)+ \" \"\n",
    "    \n",
    "print(gaegul)"
   ]
  },
  {
   "cell_type": "code",
   "execution_count": null,
   "metadata": {},
   "outputs": [],
   "source": []
  }
 ],
 "metadata": {
  "kernelspec": {
   "display_name": "Python 3",
   "language": "python",
   "name": "python3"
  },
  "language_info": {
   "codemirror_mode": {
    "name": "ipython",
    "version": 3
   },
   "file_extension": ".py",
   "mimetype": "text/x-python",
   "name": "python",
   "nbconvert_exporter": "python",
   "pygments_lexer": "ipython3",
   "version": "3.6.7"
  }
 },
 "nbformat": 4,
 "nbformat_minor": 2
}

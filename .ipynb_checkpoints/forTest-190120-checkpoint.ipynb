{
 "cells": [
  {
   "cell_type": "code",
   "execution_count": 3,
   "metadata": {},
   "outputs": [
    {
     "name": "stdout",
     "output_type": "stream",
     "text": [
      "df\n"
     ]
    }
   ],
   "source": [
    "def user(*args):\n",
    "    print(\"\".join(args))\n",
    "    \n",
    "user(\"d\",\"f\")"
   ]
  },
  {
   "cell_type": "code",
   "execution_count": 7,
   "metadata": {},
   "outputs": [
    {
     "name": "stdout",
     "output_type": "stream",
     "text": [
      "확인되었습니다.\n"
     ]
    }
   ],
   "source": [
    "def user(username,pw,pw_con):\n",
    "    if pw == pw_con:\n",
    "        print(\"확인되었습니다.\")\n",
    "    else:\n",
    "        print(\"비밀번호가 일치하지 않습니다.\")\n",
    "my_account = {\n",
    "    \"username\":\"지희\",\n",
    "    \"pw\":\"asdf\",\n",
    "    \"pw_con\":\"asdf\"\n",
    "}\n",
    "user(**my_account)"
   ]
  },
  {
   "cell_type": "markdown",
   "metadata": {},
   "source": [
    "식별자\n",
    ": 변수, 함수, 모듈, 클래스 등을 식별하는데 사용하는 이름\n",
    "\n",
    "식별자의 이름은 영문알파벳, _, 숫자로 구성\n",
    "첫 글자에 숫자가 올 수 없음\n",
    "대소문자 구별\n",
    "아래의 예약어는 사용 불가\n",
    "False, None, True, and, as, assert, break, class, continue, def, del, elif, else, except, finally, for, from, global, if, import, in, is, lambda, nonlocal, not, or, pass, raise, return, try, while, with, yield\n",
    "내장함수, 모듈 등의 이름으로 만들어도 안됨\n",
    "max, min, sum, 등...\n",
    "P01\n",
    " 식별자들을 직접 확인해보세요.\n"
   ]
  },
  {
   "cell_type": "code",
   "execution_count": 10,
   "metadata": {},
   "outputs": [
    {
     "name": "stdout",
     "output_type": "stream",
     "text": [
      "['False', 'None', 'True', 'and', 'as', 'assert', 'break', 'class', 'continue', 'def', 'del', 'elif', 'else', 'except', 'finally', 'for', 'from', 'global', 'if', 'import', 'in', 'is', 'lambda', 'nonlocal', 'not', 'or', 'pass', 'raise', 'return', 'try', 'while', 'with', 'yield']\n"
     ]
    }
   ],
   "source": [
    "import keyword\n",
    "\n",
    "print(keyword.kwlist)\n"
   ]
  },
  {
   "cell_type": "code",
   "execution_count": 16,
   "metadata": {},
   "outputs": [
    {
     "name": "stdout",
     "output_type": "stream",
     "text": [
      "100 80\n"
     ]
    }
   ],
   "source": [
    "x = 80\n",
    "y = 100\n",
    "x,y = y,x\n",
    "print(x,y)"
   ]
  },
  {
   "cell_type": "code",
   "execution_count": 37,
   "metadata": {},
   "outputs": [],
   "source": [
    "def two(num):\n",
    "    string = \"\"\n",
    "    while num//2 != 0:\n",
    "        string += str(num%2)\n",
    "        if num//2 ==1:\n",
    "            string += str(num//2)\n",
    "        num = num//2\n",
    "        \n",
    "    return int(string[::-1])\n",
    "\n",
    "def eight(num):\n",
    "    string = \"\"\n",
    "    while num//8 != 0:\n",
    "        string += str(num%8)\n",
    "        if num//8 ==1:\n",
    "            string += str(num//8)\n",
    "        num = num//8\n",
    "        \n",
    "    return int(string[::-1])\n",
    "\n",
    "def sixteen(num):\n",
    "    string = \"\"\n",
    "    while num//16 != 0:\n",
    "        string += str(num%16)\n",
    "        if num//16 ==1:\n",
    "            string += str(num//16)\n",
    "        num = num//16\n",
    "        \n",
    "    return int(string[::-1])"
   ]
  },
  {
   "cell_type": "code",
   "execution_count": 38,
   "metadata": {},
   "outputs": [
    {
     "data": {
      "text/plain": [
       "10"
      ]
     },
     "execution_count": 38,
     "metadata": {},
     "output_type": "execute_result"
    }
   ],
   "source": [
    "sixteen(16)"
   ]
  },
  {
   "cell_type": "code",
   "execution_count": 41,
   "metadata": {},
   "outputs": [
    {
     "name": "stdout",
     "output_type": "stream",
     "text": [
      "0b10111\n",
      "0o27\n",
      "0x17\n"
     ]
    }
   ],
   "source": [
    "print(bin(23))\n",
    "print(oct(23))\n",
    "print(hex(23))"
   ]
  },
  {
   "cell_type": "code",
   "execution_count": 43,
   "metadata": {},
   "outputs": [
    {
     "data": {
      "text/plain": [
       "'  저는 이지희입니다'"
      ]
     },
     "execution_count": 43,
     "metadata": {},
     "output_type": "execute_result"
    }
   ],
   "source": [
    "result = \"안녕하세요 저는 이지희입니다\"\n",
    "result.replace(\"안녕하세요\",\" \")"
   ]
  }
 ],
 "metadata": {
  "kernelspec": {
   "display_name": "Python 3",
   "language": "python",
   "name": "python3"
  },
  "language_info": {
   "codemirror_mode": {
    "name": "ipython",
    "version": 3
   },
   "file_extension": ".py",
   "mimetype": "text/x-python",
   "name": "python",
   "nbconvert_exporter": "python",
   "pygments_lexer": "ipython3",
   "version": "3.6.7"
  }
 },
 "nbformat": 4,
 "nbformat_minor": 2
}

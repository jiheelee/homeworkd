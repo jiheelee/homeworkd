{
 "cells": [
  {
   "cell_type": "code",
   "execution_count": 19,
   "metadata": {},
   "outputs": [
    {
     "name": "stdout",
     "output_type": "stream",
     "text": [
      "[1, 2, 3, 4, 5]\n",
      "[6, 7, 8, 9, 10]\n",
      "[11, 12, 13, 14, 15]\n",
      "[16, 17, 18, 19, 20]\n",
      "[21, 22, 23, 24, 25]\n",
      "\n"
     ]
    }
   ],
   "source": [
    "string = \"\"\n",
    "for i in range(1,6):\n",
    "    string += f\"{list(range(5*i-4,5*i+1))}\\n\"\n",
    "    \n",
    "print(string)"
   ]
  },
  {
   "cell_type": "code",
   "execution_count": 49,
   "metadata": {},
   "outputs": [
    {
     "name": "stdout",
     "output_type": "stream",
     "text": [
      "[1, 2, 3, 4, 5]\n",
      "[16, 17, 18, 19, 6]\n",
      "[15, 24, 25, 20, 7]\n",
      "[14, 23, 22, 21, 8]\n",
      "[13, 12, 11, 10, 9]\n"
     ]
    }
   ],
   "source": [
    "a = [[],[],[],[],[]]\n",
    "for i in range(1,6):\n",
    "    a[0].append(i)\n",
    "for i in range(10,14):\n",
    "    a[4].append(23-i)\n",
    "for i in range(16,20):\n",
    "    a[1].append(i)\n",
    "for i in range(2,4):\n",
    "    a[i].append(17-i)\n",
    "    a[i].append(26-i)\n",
    "for i in range(2,4):\n",
    "    a[i].append(31-3*i)\n",
    "    a[i].append(18+i)\n",
    "for i in range(1,5):\n",
    "    a[i].append(i+5)\n",
    "\n",
    "\n",
    "for i in range(5):\n",
    "    print(a[i])\n",
    "\n"
   ]
  },
  {
   "cell_type": "code",
   "execution_count": 3,
   "metadata": {},
   "outputs": [
    {
     "name": "stdout",
     "output_type": "stream",
     "text": [
      "5\n",
      "  0  1  2  3  4\n",
      " 15 16 17 18  5\n",
      " 14 23 24 19  6\n",
      " 13 22 21 20  7\n",
      " 12 11 10  9  8\n"
     ]
    }
   ],
   "source": [
    "n = int(input())\n",
    " \n",
    "for y in range(0, n):\n",
    "    for x in range(0, n):\n",
    "        p = min(x,y,n-x-1,n-y-1)\n",
    "        if x>=y:\n",
    "            q = x+y - 2*p\n",
    "        else:\n",
    "            q = (n-1 - 2*p)*4 - (x+y - 2*p)\n",
    "        q += 4 * (p*n - (p*p))\n",
    "        print(\"{:3d}\".format(q), end=\"\")\n",
    "    print()\n",
    "\n"
   ]
  },
  {
   "cell_type": "code",
   "execution_count": null,
   "metadata": {},
   "outputs": [],
   "source": []
  }
 ],
 "metadata": {
  "kernelspec": {
   "display_name": "Python 3",
   "language": "python",
   "name": "python3"
  },
  "language_info": {
   "codemirror_mode": {
    "name": "ipython",
    "version": 3
   },
   "file_extension": ".py",
   "mimetype": "text/x-python",
   "name": "python",
   "nbconvert_exporter": "python",
   "pygments_lexer": "ipython3",
   "version": "3.6.7"
  }
 },
 "nbformat": 4,
 "nbformat_minor": 2
}

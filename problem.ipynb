{
 "cells": [
  {
   "cell_type": "code",
   "execution_count": 26,
   "metadata": {},
   "outputs": [
    {
     "name": "stdout",
     "output_type": "stream",
     "text": [
      "이재형\n"
     ]
    }
   ],
   "source": [
    "print(\"이재형\")"
   ]
  },
  {
   "cell_type": "code",
   "execution_count": 55,
   "metadata": {},
   "outputs": [
    {
     "name": "stdout",
     "output_type": "stream",
     "text": [
      "입력Lee ji hee hi\n",
      "4\n",
      "Lee j. h. hi \n"
     ]
    }
   ],
   "source": [
    "# 중간이름 축약 문제\n",
    "name = str(input(\"입력\"))\n",
    "name_list = name.split(' ')\n",
    "output = \"\"\n",
    "print(len(name_list))\n",
    "for i in range(len(name_list)):\n",
    "    if i == 0 or i == len(name_list)-1:\n",
    "        output += f\"{name_list[i]} \"\n",
    "    else:\n",
    "        output += f\"{name_list[i][0]}. \"\n",
    "print(output)"
   ]
  },
  {
   "cell_type": "code",
   "execution_count": 29,
   "metadata": {},
   "outputs": [
    {
     "name": "stdout",
     "output_type": "stream",
     "text": [
      "         1월         \n",
      "Mo Tu We Th Fr Sa Su\n",
      "1  2  3  4  5  6  7\n",
      "8  9  10 11 12 13 14\n",
      "15 16 17 18 19 20 21\n",
      "22 23 24 25 26 27 28\n",
      "29 30 31 "
     ]
    }
   ],
   "source": [
    "# 달력 문제\n",
    "\n",
    "print(\"{0:^20}\".format(\"1월\"))\n",
    "print(\"Mo Tu We Th Fr Sa Su\")\n",
    "for i in range(1,32):\n",
    "    if i % 7 == 0:\n",
    "        print(i)\n",
    "    elif i < 10:\n",
    "        print(i, end = \"  \")\n",
    "    else:\n",
    "        print(i, end = \" \")\n",
    "        "
   ]
  },
  {
   "cell_type": "code",
   "execution_count": 56,
   "metadata": {
    "scrolled": true
   },
   "outputs": [
    {
     "name": "stdout",
     "output_type": "stream",
     "text": [
      "         1월         \n",
      "Mo Tu We Th Fr Sa Su\n",
      "1  2  3  4  5  6  7\n",
      "8  9  10 11 12 13 14\n",
      "15 16 17 18 19 20 21\n",
      "22 23 24 25 26 27 28\n",
      "29 30 31 \n",
      "\n",
      "         2월         \n",
      "Mo Tu We Th Fr Sa Su\n",
      "1  2  3  4  5  6  7\n",
      "8  9  10 11 12 13 14\n",
      "15 16 17 18 19 20 21\n",
      "22 23 24 25 26 27 28\n",
      "\n",
      "\n",
      "         3월         \n",
      "Mo Tu We Th Fr Sa Su\n",
      "1  2  3  4  5  6  7\n",
      "8  9  10 11 12 13 14\n",
      "15 16 17 18 19 20 21\n",
      "22 23 24 25 26 27 28\n",
      "29 30 31 \n",
      "\n",
      "         4월         \n",
      "Mo Tu We Th Fr Sa Su\n",
      "1  2  3  4  5  6  7\n",
      "8  9  10 11 12 13 14\n",
      "15 16 17 18 19 20 21\n",
      "22 23 24 25 26 27 28\n",
      "29 30 \n",
      "\n",
      "         5월         \n",
      "Mo Tu We Th Fr Sa Su\n",
      "1  2  3  4  5  6  7\n",
      "8  9  10 11 12 13 14\n",
      "15 16 17 18 19 20 21\n",
      "22 23 24 25 26 27 28\n",
      "29 30 31 \n",
      "\n",
      "         6월         \n",
      "Mo Tu We Th Fr Sa Su\n",
      "1  2  3  4  5  6  7\n",
      "8  9  10 11 12 13 14\n",
      "15 16 17 18 19 20 21\n",
      "22 23 24 25 26 27 28\n",
      "29 30 \n",
      "\n",
      "         7월         \n",
      "Mo Tu We Th Fr Sa Su\n",
      "1  2  3  4  5  6  7\n",
      "8  9  10 11 12 13 14\n",
      "15 16 17 18 19 20 21\n",
      "22 23 24 25 26 27 28\n",
      "29 30 31 \n",
      "\n",
      "         8월         \n",
      "Mo Tu We Th Fr Sa Su\n",
      "1  2  3  4  5  6  7\n",
      "8  9  10 11 12 13 14\n",
      "15 16 17 18 19 20 21\n",
      "22 23 24 25 26 27 28\n",
      "29 30 31 \n",
      "\n",
      "         9월         \n",
      "Mo Tu We Th Fr Sa Su\n",
      "1  2  3  4  5  6  7\n",
      "8  9  10 11 12 13 14\n",
      "15 16 17 18 19 20 21\n",
      "22 23 24 25 26 27 28\n",
      "29 30 \n",
      "\n",
      "        10월         \n",
      "Mo Tu We Th Fr Sa Su\n",
      "1  2  3  4  5  6  7\n",
      "8  9  10 11 12 13 14\n",
      "15 16 17 18 19 20 21\n",
      "22 23 24 25 26 27 28\n",
      "29 30 31 \n",
      "\n",
      "        11월         \n",
      "Mo Tu We Th Fr Sa Su\n",
      "1  2  3  4  5  6  7\n",
      "8  9  10 11 12 13 14\n",
      "15 16 17 18 19 20 21\n",
      "22 23 24 25 26 27 28\n",
      "29 30 \n",
      "\n",
      "        12월         \n",
      "Mo Tu We Th Fr Sa Su\n",
      "1  2  3  4  5  6  7\n",
      "8  9  10 11 12 13 14\n",
      "15 16 17 18 19 20 21\n",
      "22 23 24 25 26 27 28\n",
      "29 30 31 \n",
      "\n"
     ]
    }
   ],
   "source": [
    "for i in range(1,13):\n",
    "    print(f'{f\"{i}월\":^20}')\n",
    "    print(\"Mo Tu We Th Fr Sa Su\")\n",
    "    if i == 4 or i == 6 or i == 9 or i == 11:\n",
    "        for j in range(1,31):\n",
    "            if j % 7 == 0:\n",
    "                print(j)\n",
    "            elif j < 10:\n",
    "                print(j, end = \"  \")\n",
    "            else:\n",
    "                print(j, end = \" \")\n",
    "    elif i == 2:\n",
    "        for j in range(1,29):\n",
    "            if j % 7 == 0:\n",
    "                print(j)\n",
    "            elif j < 10:\n",
    "                print(j, end = \"  \")\n",
    "            else:\n",
    "                print(j, end = \" \")\n",
    "    else:\n",
    "        for j in range(1,32):\n",
    "            if j % 7 == 0:\n",
    "                print(j)\n",
    "            elif j < 10:\n",
    "                print(j, end = \"  \")\n",
    "            else:\n",
    "                print(j, end = \" \")\n",
    "        \n",
    "    print(\"\\n\")        \n",
    "    \n",
    "        \n",
    "    "
   ]
  },
  {
   "cell_type": "code",
   "execution_count": 65,
   "metadata": {},
   "outputs": [
    {
     "name": "stdout",
     "output_type": "stream",
     "text": [
      "개굴씨 입력하세요안녕하 개굴 씨\n",
      "['안녕하', '개굴', '씨']\n",
      "개굴개굴개굴 개굴개굴 개굴 \n"
     ]
    }
   ],
   "source": [
    "persona = input(\"개굴씨 입력하세요\")\n",
    "gaegul = \"\"\n",
    "p_list = persona.split(' ')\n",
    "print(p_list)\n",
    "for i in p_list:\n",
    "    gaegul += \"개굴\" * len(i)+ \" \"\n",
    "    \n",
    "print(gaegul)"
   ]
  },
  {
   "cell_type": "code",
   "execution_count": 74,
   "metadata": {},
   "outputs": [],
   "source": [
    "def crossBridge(steps):\n",
    "    cnt = 0\n",
    "    current = 0\n",
    "    n = len(steps)\n",
    "    while (current <=5):\n",
    "        current += steps[current]\n",
    "        cnt += 1\n",
    "    return cnt"
   ]
  },
  {
   "cell_type": "code",
   "execution_count": 75,
   "metadata": {},
   "outputs": [
    {
     "data": {
      "text/plain": [
       "4"
      ]
     },
     "execution_count": 75,
     "metadata": {},
     "output_type": "execute_result"
    }
   ],
   "source": [
    "crossBridge([1,1,2,3,5])"
   ]
  },
  {
   "cell_type": "code",
   "execution_count": 76,
   "metadata": {},
   "outputs": [],
   "source": [
    "def isPrince(frog):\n",
    "    for i in frog:\n",
    "        if i[0] == \"f\":\n",
    "            return i"
   ]
  },
  {
   "cell_type": "code",
   "execution_count": 77,
   "metadata": {},
   "outputs": [
    {
     "data": {
      "text/plain": [
       "'frog'"
      ]
     },
     "execution_count": 77,
     "metadata": {},
     "output_type": "execute_result"
    }
   ],
   "source": [
    "isPrince(['frog','jihee'])"
   ]
  },
  {
   "cell_type": "code",
   "execution_count": 106,
   "metadata": {
    "scrolled": true
   },
   "outputs": [
    {
     "name": "stdout",
     "output_type": "stream",
     "text": [
      "별아 어디 있니?3\n",
      "*   *   *   \n",
      "  *   *\n"
     ]
    }
   ],
   "source": [
    "num = int(input(\"별아 어디 있니?\"))\n",
    "one = \"*\" + \" \" * num\n",
    "three = f\"{one}\"* 3\n",
    "print(three)\n",
    "num1 = int((num +3)/2 - 1)\n",
    "second =\" \"* num1 + \"*\" + \" \" * num + \"*\"\n",
    "\n",
    "print(second)\n",
    "\n"
   ]
  },
  {
   "cell_type": "code",
   "execution_count": null,
   "metadata": {},
   "outputs": [],
   "source": [
    "length = len(three) - num\n",
    "second = f'{\"*\" + \" \" * num + \"*\":^f\"{length}\"}'\n",
    "print(three)\n",
    "print(second)"
   ]
  },
  {
   "cell_type": "code",
   "execution_count": 123,
   "metadata": {},
   "outputs": [],
   "source": [
    "def minnum(num1,num2):\n",
    "    \n",
    "    a = num1\n",
    "    b = num2\n",
    "    if a < b:\n",
    "        (a, b) = (b, a)\n",
    "    while (b != 0):\n",
    "            (a, b) = (b, a % b)\n",
    "    return a * num1 * num2"
   ]
  },
  {
   "cell_type": "code",
   "execution_count": 124,
   "metadata": {},
   "outputs": [
    {
     "data": {
      "text/plain": [
       "2"
      ]
     },
     "execution_count": 124,
     "metadata": {},
     "output_type": "execute_result"
    }
   ],
   "source": [
    "minnum(1,2)"
   ]
  },
  {
   "cell_type": "code",
   "execution_count": 128,
   "metadata": {},
   "outputs": [
    {
     "name": "stdout",
     "output_type": "stream",
     "text": [
      "3 5\n"
     ]
    },
    {
     "ename": "ValueError",
     "evalue": "invalid literal for int() with base 10: '3 5'",
     "output_type": "error",
     "traceback": [
      "\u001b[1;31m---------------------------------------------------------------------------\u001b[0m",
      "\u001b[1;31mValueError\u001b[0m                                Traceback (most recent call last)",
      "\u001b[1;32m<ipython-input-128-d96f60ed4e0a>\u001b[0m in \u001b[0;36m<module>\u001b[1;34m\u001b[0m\n\u001b[1;32m----> 1\u001b[1;33m \u001b[0ma\u001b[0m \u001b[1;33m=\u001b[0m \u001b[0mint\u001b[0m\u001b[1;33m(\u001b[0m\u001b[0minput\u001b[0m\u001b[1;33m(\u001b[0m\u001b[1;33m)\u001b[0m\u001b[1;33m)\u001b[0m\u001b[1;33m\u001b[0m\u001b[1;33m\u001b[0m\u001b[0m\n\u001b[0m\u001b[0;32m      2\u001b[0m \u001b[0mprint\u001b[0m\u001b[1;33m(\u001b[0m\u001b[0ma\u001b[0m\u001b[1;33m[\u001b[0m\u001b[1;36m0\u001b[0m\u001b[1;33m]\u001b[0m\u001b[1;33m*\u001b[0m\u001b[0ma\u001b[0m\u001b[1;33m[\u001b[0m\u001b[1;36m1\u001b[0m\u001b[1;33m]\u001b[0m\u001b[1;33m)\u001b[0m\u001b[1;33m\u001b[0m\u001b[1;33m\u001b[0m\u001b[0m\n",
      "\u001b[1;31mValueError\u001b[0m: invalid literal for int() with base 10: '3 5'"
     ]
    }
   ],
   "source": [
    "a = int(input())\n",
    "print(a[0]*a[1])"
   ]
  },
  {
   "cell_type": "code",
   "execution_count": null,
   "metadata": {},
   "outputs": [],
   "source": []
  }
 ],
 "metadata": {
  "kernelspec": {
   "display_name": "Python 3",
   "language": "python",
   "name": "python3"
  },
  "language_info": {
   "codemirror_mode": {
    "name": "ipython",
    "version": 3
   },
   "file_extension": ".py",
   "mimetype": "text/x-python",
   "name": "python",
   "nbconvert_exporter": "python",
   "pygments_lexer": "ipython3",
   "version": "3.6.7"
  }
 },
 "nbformat": 4,
 "nbformat_minor": 2
}
